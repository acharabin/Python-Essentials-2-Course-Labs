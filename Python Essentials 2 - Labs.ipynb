{
 "cells": [
  {
   "cell_type": "markdown",
   "id": "e328d23e-02a4-4daa-9ecf-6375d3765b8c",
   "metadata": {},
   "source": [
    "### Scenario\n",
    "You already know how split() works. Now we want you to prove it.\n",
    "\n",
    "Your task is to write your own function, which behaves almost exactly like the original split() method, i.e.:\n",
    "\n",
    "it should accept exactly one argument - a string;\n",
    "it should return a list of words created from the string, divided in the places where the string contains whitespaces;\n",
    "if the string is empty, the function should return an empty list;\n",
    "its name should be mysplit()\n",
    "Use the template in the editor. Test your code carefully."
   ]
  },
  {
   "cell_type": "code",
   "execution_count": 2,
   "id": "b0e33788-9e54-4110-8ddb-ae5334f5f2e4",
   "metadata": {},
   "outputs": [],
   "source": [
    "def mysplit(strng):\n",
    "    ls = []\n",
    "    if len(strng) == 0:\n",
    "        return ls\n",
    "    charseq = ''\n",
    "    for i, char in enumerate(strng.strip()):\n",
    "        if (char == ' ') & (len(charseq)>0):\n",
    "            ls.append(charseq.strip())\n",
    "            charseq = ''\n",
    "        else: charseq += char\n",
    "    ls.append(charseq.strip())\n",
    "    return ls"
   ]
  },
  {
   "cell_type": "code",
   "execution_count": 3,
   "id": "99931786-062f-49d8-9069-460aff160726",
   "metadata": {},
   "outputs": [
    {
     "name": "stdout",
     "output_type": "stream",
     "text": [
      "['To', 'be', 'or', 'not', 'to', 'be,', 'that', 'is', 'the', 'question']\n",
      "['To', 'be', 'or', 'not', 'to', 'be,that', 'is', 'the', 'question']\n",
      "['']\n",
      "['abc']\n",
      "[]\n"
     ]
    }
   ],
   "source": [
    "# Test Cases\n",
    "\n",
    "print(mysplit(\"To be or not to be, that is the question\"))\n",
    "print(mysplit(\"To be or not to be,that is the question\"))\n",
    "print(mysplit(\"   \"))\n",
    "print(mysplit(\" abc \"))\n",
    "print(mysplit(\"\"))"
   ]
  },
  {
   "cell_type": "code",
   "execution_count": null,
   "id": "bc258e42-b51d-4982-9570-cf8e8206acaa",
   "metadata": {},
   "outputs": [],
   "source": [
    "# Expected Output\n",
    "\n",
    "['To', 'be', 'or', 'not', 'to', 'be,', 'that', 'is', 'the', 'question']\n",
    "['To', 'be', 'or', 'not', 'to', 'be,that', 'is', 'the', 'question']\n",
    "[]\n",
    "['abc']\n",
    "[]"
   ]
  },
  {
   "cell_type": "markdown",
   "id": "0f0cf370-62be-4961-9107-b8368c003f4a",
   "metadata": {},
   "source": [
    "### Scenario\n",
    "You've surely seen a seven-segment display.\n",
    "\n",
    "It's a device (sometimes electronic, sometimes mechanical) designed to present one decimal digit using a subset of seven segments. If you still don't know what it is, refer to the following Wikipedia article.\n",
    "\n",
    "Your task is to write a program which is able to simulate the work of a seven-display device, although you're going to use single LEDs instead of segments.\n",
    "\n",
    "Each digit is constructed from 13 LEDs (some lit, some dark, of course) - that's how we imagine it:"
   ]
  },
  {
   "cell_type": "code",
   "execution_count": 5,
   "id": "6221f677-f0b4-44c9-ac61-ad3ae66e89af",
   "metadata": {},
   "outputs": [],
   "source": [
    "def seven_segment(num):\n",
    "\n",
    "    row={'right': \"  #\", 'left':\"#  \", 'bagel':\"# #\", 'all':\"###\"}\n",
    "    \n",
    "    number = {0: [row['all'], row['bagel'], row['bagel'], row['bagel'], row['all']],\n",
    "    1: [row['right'],row['right'],row['right'],row['right'],row['right']],\n",
    "    2: [row['all'],row['right'],row['all'],row['left'],row['all']],\n",
    "    3: [row['all'],row['right'],row['all'],row['right'],row['all']],\n",
    "    4: [row['bagel'], row['bagel'], row['all'], row['right'], row['right']],\n",
    "    5: [row['all'],row['left'],row['all'],row['right'],row['all']],\n",
    "    6: [row['all'],row['left'],row['all'],row['bagel'],row['all']],\n",
    "    7: [row['all'],row['right'],row['right'],row['right'],row['right']],\n",
    "    8: [row['all'],row['bagel'],row['all'],row['bagel'],row['all']],\n",
    "    9: [row['all'],row['bagel'],row['all'],row['right'],row['all']]\n",
    "    }\n",
    "    \n",
    "    \n",
    "    for r in range(5):\n",
    "        rstring = \"\"\n",
    "        gap = \"\"\n",
    "        for n in str(num).strip(''):\n",
    "            if int(n)>0:\n",
    "                gap=\" \"\n",
    "            rstring += gap + number[int(n)][r]\n",
    "        print(rstring)"
   ]
  },
  {
   "cell_type": "code",
   "execution_count": 6,
   "id": "682abb3f-6196-4c81-afa6-da1ecd793c9c",
   "metadata": {},
   "outputs": [
    {
     "name": "stdout",
     "output_type": "stream",
     "text": [
      " ### ### ###   # ### ### ### ### ### # #\n",
      " # # # # # #   #   #   # #     # #   # #\n",
      " ### # # ###   #   # ### ### ### ### ###\n",
      "   # # # # #   #   # #   # #   #   #   #\n",
      " ### ### ###   #   # ### ### ### ###   #\n"
     ]
    }
   ],
   "source": [
    "seven_segment(9081726354)"
   ]
  },
  {
   "cell_type": "markdown",
   "id": "4a6b93b3-e6d7-4d2b-8104-ccca45932c83",
   "metadata": {},
   "source": [
    "### Scenario\n",
    "You are already familiar with the Caesar cipher, and this is why we want you to improve the code we showed you recently.\n",
    "\n",
    "The original Caesar cipher shifts each character by one: a becomes b, z becomes a, and so on. Let's make it a bit harder, and allow the shifted value to come from the range 1..25 inclusive.\n",
    "\n",
    "Moreover, let the code preserve the letters' case (lower-case letters will remain lower-case) and all non-alphabetical characters should remain untouched.\n",
    "\n",
    "Your task is to write a program which:\n",
    "\n",
    "asks the user for one line of text to encrypt;\n",
    "asks the user for a shift value (an integer number from the range 1..25 - note: you should force the user to enter a valid shift value (don't give up and don't let bad data fool you!)\n",
    "prints out the encoded text.\n",
    "Test your code using the data we've provided."
   ]
  },
  {
   "cell_type": "code",
   "execution_count": null,
   "id": "9e00a5a7-9351-4fb3-b484-a052812c0bee",
   "metadata": {},
   "outputs": [],
   "source": [
    "text = input(\"input line of text to encrypt: \")\n",
    "shift_value = int(input(\"input shift - integer value between 1 and 25: \"))\n",
    "\n",
    "assert(1 <= shift_value <= 25)\n",
    "\n",
    "encrypted_chars = []\n",
    "for char in text:\n",
    "    if not char.isalpha():\n",
    "        encrypted_chars.append(char)\n",
    "    else:\n",
    "        if char.islower():\n",
    "            min_ord = ord('a')\n",
    "            max_ord = ord('z')\n",
    "        else: \n",
    "            min_ord = ord('A')\n",
    "            max_ord = ord('Z')\n",
    "        if ord(char) + shift_value > max_ord:\n",
    "            char_num = ord(char) + shift_value - max_ord + min_ord -1\n",
    "        else: \n",
    "            char_num = ord(char) + shift_value\n",
    "        encrypted_chars.append(chr(char_num))\n",
    "\n",
    "print(''.join(encrypted_chars))"
   ]
  },
  {
   "cell_type": "markdown",
   "id": "c1d857ba-e4f4-477d-acd1-c94b2c5136ee",
   "metadata": {},
   "source": [
    "### Scenario\n",
    "Do you know what a palindrome is?\n",
    "\n",
    "It's a word which look the same when read forward and backward. For example, \"kayak\" is a palindrome, while \"loyal\" is not.\n",
    "\n",
    "Your task is to write a program which:\n",
    "\n",
    "asks the user for some text;\n",
    "checks whether the entered text is a palindrome, and prints result.\n",
    "Note:\n",
    "\n",
    "assume that an empty string isn't a palindrome;\n",
    "treat upper- and lower-case letters as equal;\n",
    "spaces are not taken into account during the check - treat them as non-existent;\n",
    "there are more than a few correct solutions - try to find more than one.\n",
    "Test your code using the data we've provided."
   ]
  },
  {
   "cell_type": "code",
   "execution_count": 3,
   "id": "10320698-c046-4e0a-ab05-5d5b97817dd9",
   "metadata": {},
   "outputs": [
    {
     "name": "stdin",
     "output_type": "stream",
     "text": [
      "input text:  abba\n"
     ]
    },
    {
     "name": "stdout",
     "output_type": "stream",
     "text": [
      "It's a palindrome\n"
     ]
    }
   ],
   "source": [
    "text = input(\"input text: \")\n",
    "\n",
    "if text == ''.join(list(text)[::-1]):\n",
    "    print(\"It's a palindrome\")\n",
    "else:\n",
    "    print(\"It's not a palindrome\")"
   ]
  },
  {
   "cell_type": "markdown",
   "id": "e56c22bf-575f-4b43-90bc-0d934f5895a7",
   "metadata": {},
   "source": [
    "### Scenario\n",
    "An anagram is a new word formed by rearranging the letters of a word, using all the original letters exactly once. For example, the phrases \"rail safety\" and \"fairy tales\" are anagrams, while \"I am\" and \"You are\" are not.\n",
    "\n",
    "Your task is to write a program which:\n",
    "\n",
    "asks the user for two separate texts;\n",
    "checks whether, the entered texts are anagrams and prints the result.\n",
    "Note:\n",
    "\n",
    "assume that two empty strings are not anagrams;\n",
    "treat upper- and lower-case letters as equal;\n",
    "spaces are not taken into account during the check - treat them as non-existent\n",
    "Test your code using the data we've provided."
   ]
  },
  {
   "cell_type": "code",
   "execution_count": 1,
   "id": "186b87a9-5a2d-462c-b2b7-74db2495c8b6",
   "metadata": {},
   "outputs": [
    {
     "name": "stdin",
     "output_type": "stream",
     "text": [
      "input first line of text:  listen\n",
      "input second line of text:  Silent\n"
     ]
    },
    {
     "name": "stdout",
     "output_type": "stream",
     "text": [
      "Anagrams\n"
     ]
    }
   ],
   "source": [
    "ls1 = list(input(\"input first line of text: \").lower())\n",
    "ls2 = list(input(\"input second line of text: \").lower())\n",
    "\n",
    "for i, char1 in enumerate(ls1):\n",
    "    if char1 in ls2:\n",
    "        if i == len(ls1) - 1:\n",
    "            print(\"Anagrams\")\n",
    "        else:\n",
    "            ls2.remove(char1)\n",
    "    else: \n",
    "        print(\"Not anagrams\")\n",
    "        break"
   ]
  },
  {
   "cell_type": "markdown",
   "id": "c0180aed-44b0-49c1-85aa-27b0b31045bb",
   "metadata": {},
   "source": [
    "### Scenario\n",
    "Some say that the Digit of Life is a digit evaluated using somebody's birthday. It's simple - you just need to sum all the digits of the date. If the result contains more than one digit, you have to repeat the addition until you get exactly one digit. For example:\n",
    "\n",
    "1 January 2017 = 2017 01 01\n",
    "2 + 0 + 1 + 7 + 0 + 1 + 0 + 1 = 12\n",
    "1 + 2 = 3\n",
    "3 is the digit we searched for and found.\n",
    "\n",
    "Your task is to write a program which:\n",
    "\n",
    "asks the user her/his birthday (in the format YYYYMMDD, or YYYYDDMM, or MMDDYYYY - actually, the order of the digits doesn't matter)\n",
    "outputs the Digit of Life for the date.\n",
    "Test your code using the data we've provided."
   ]
  },
  {
   "cell_type": "code",
   "execution_count": 5,
   "id": "8ceb1497-607a-4858-a0e1-4d660382d699",
   "metadata": {},
   "outputs": [
    {
     "name": "stdin",
     "output_type": "stream",
     "text": [
      "input birthday in format yyyymmdd:  19950626\n"
     ]
    },
    {
     "name": "stdout",
     "output_type": "stream",
     "text": [
      "2\n"
     ]
    }
   ],
   "source": [
    "bday = input(\"input birthday in format yyyymmdd: \")\n",
    "\n",
    "assert((len(bday) == 8) and (bday.isdigit()))\n",
    "\n",
    "digitoflife = sum(map(int,list(bday)))\n",
    "\n",
    "while digitoflife >= 10:\n",
    "    digitoflife = sum(map(int,list(str(digitoflife))))\n",
    "    \n",
    "print(digitoflife)"
   ]
  },
  {
   "cell_type": "markdown",
   "id": "cb2e3eda-4cc3-460c-9298-230cacf3a579",
   "metadata": {},
   "source": [
    "### Scenario\n",
    "Let's play a game. We will give you two strings: one being a word (e.g., \"dog\") and the second being a combination of any characters.\n",
    "\n",
    "Your task is to write a program which answers the following question: are the characters comprising the first string hidden inside the second string?\n",
    "\n",
    "For example:\n",
    "\n",
    "if the second string is given as \"vcxzxduybfdsobywuefgas\", the answer is yes;\n",
    "if the second string is \"vcxzxdcybfdstbywuefsas\", the answer is no (as there are neither the letters \"d\", \"o\", or \"g\", in this order)\n",
    "Hints:\n",
    "\n",
    "you should use the two-argument variants of the pos() functions inside your code;\n",
    "don't worry about case sensitivity.\n",
    "Test your code using the data we've provided."
   ]
  },
  {
   "cell_type": "code",
   "execution_count": 7,
   "id": "575c90ab-882f-42b6-b6d4-5b1edaf2908c",
   "metadata": {},
   "outputs": [
    {
     "name": "stdin",
     "output_type": "stream",
     "text": [
      "input string 1:  donor\n",
      "input string 2:  Nabucodonosor\n"
     ]
    },
    {
     "name": "stdout",
     "output_type": "stream",
     "text": [
      "Yes\n"
     ]
    }
   ],
   "source": [
    "string1 = input(\"input string 1: \")\n",
    "string2 = input(\"input string 2: \")\n",
    "\n",
    "pos = 0\n",
    "\n",
    "for char in string1:\n",
    "    pos = string2.find(char,pos) \n",
    "    if pos == -1:\n",
    "        break\n",
    "        \n",
    "if pos == -1:\n",
    "    print(\"No\")\n",
    "else:\n",
    "    print(\"Yes\")"
   ]
  },
  {
   "cell_type": "markdown",
   "id": "d77c4a83-901d-4439-a956-2b1b8a40d37b",
   "metadata": {},
   "source": [
    "### Scenario - \n",
    "Objective - improving the student's skills in operating with **strings and lists**;\n",
    "\n",
    "As you probably know, Sudoku is a number-placing puzzle played on a 9x9 board. The player has to fill the board in a very specific way:\n",
    "\n",
    "each row of the board must contain all digits from 0 to 9 (the order doesn't matter)\n",
    "each column of the board must contain all digits from 0 to 9 (again, the order doesn't matter)\n",
    "each of the nine 3x3 \"tiles\" (we will name them \"sub-squares\") of the table must contain all digits from 0 to 9.\n",
    "If you need more details, you can find them here.\n",
    "\n",
    "Your task is to write a program which:\n",
    "\n",
    "reads 9 rows of the Sudoku, each containing 9 digits (check carefully if the data entered are valid)\n",
    "outputs Yes if the Sudoku is valid, and No otherwise.\n",
    "Test your code using the data we've provided."
   ]
  },
  {
   "cell_type": "code",
   "execution_count": 10,
   "id": "2384f3d9-2843-47c7-898a-06fb13ffa6af",
   "metadata": {},
   "outputs": [],
   "source": [
    "def sudoku_validation(input):\n",
    "\n",
    "    rows = input.split('\\n')\n",
    "    \n",
    "    assert(len(rows)==9)\n",
    "    \n",
    "    for row in rows:\n",
    "        assert((row.isdigit()) & (len(row)==9))\n",
    "        if len(set(row)) != 9:\n",
    "            print(\"No\")\n",
    "            return\n",
    "    \n",
    "    for y in range(9):\n",
    "        if len(set([list(row)[y] for row in rows])) != 9:\n",
    "            print(\"No\")\n",
    "            return\n",
    "    \n",
    "    for x in range(3):\n",
    "        for y in range(3):\n",
    "            if len(set([element for row in rows[x*3:x*3+3] for i, element in enumerate(row) if y*3 <= i < y*3+3])) != 9:\n",
    "                print(\"No\")\n",
    "                return\n",
    "            \n",
    "    print(\"Yes\")"
   ]
  },
  {
   "cell_type": "code",
   "execution_count": 11,
   "id": "5c1e92e0-9b6d-4d5d-b90e-1542d82b7672",
   "metadata": {
    "scrolled": true
   },
   "outputs": [
    {
     "name": "stdout",
     "output_type": "stream",
     "text": [
      "Yes\n",
      "No\n"
     ]
    }
   ],
   "source": [
    "sudoku_validation('295743861\\n431865927\\n876192543\\n387459216\\n612387495\\n549216738\\n763524189\\n928671354\\n154938672')\n",
    "sudoku_validation('195743862\\n431865927\\n876192543\\n387459216\\n612387495\\n549216738\\n763524189\\n928671354\\n254938671')"
   ]
  },
  {
   "cell_type": "markdown",
   "id": "66b7e406-0b47-4e3b-90ba-89c6e355363e",
   "metadata": {},
   "source": [
    "### Scenario\n",
    "Your task is to write a function able to input integer values and to check if they are within a specified range.\n",
    "\n",
    "The function should:\n",
    "\n",
    "accept three arguments: a prompt, a low acceptable limit, and a high acceptable limit;\n",
    "if the user enters a string that is not an integer value, the function should emit the message Error: wrong input, and ask the user to input the value again;\n",
    "if the user enters a number which falls outside the specified range, the function should emit the message Error: the value is not within permitted range (min..max) and ask the user to input the value again;\n",
    "if the input value is valid, return it as a result."
   ]
  },
  {
   "cell_type": "code",
   "execution_count": 13,
   "id": "f8ea3d14-7e49-4b82-abd1-84d8ae71e77f",
   "metadata": {},
   "outputs": [
    {
     "name": "stdin",
     "output_type": "stream",
     "text": [
      "Enter a number from -10 to 10:  9\n"
     ]
    },
    {
     "name": "stdout",
     "output_type": "stream",
     "text": [
      "The number is: 9\n"
     ]
    }
   ],
   "source": [
    "def read_int(prompt, min, max):\n",
    "    \n",
    "    num_val = False\n",
    "    \n",
    "    while num_val == False:\n",
    "        try: \n",
    "            num = int(input(prompt))\n",
    "            num_val = True\n",
    "        except ValueError:\n",
    "            print(\"Error: wrong input\")\n",
    "            \n",
    "    while not min <= num <= max:\n",
    "        print(\"Error: the value is not within permitted\")\n",
    "        num = int(input(prompt))\n",
    "        \n",
    "    return num\n",
    "\n",
    "v = read_int(\"Enter a number from -10 to 10: \", -10, 10)\n",
    "\n",
    "print(\"The number is:\", v)"
   ]
  },
  {
   "cell_type": "markdown",
   "id": "edbb4d9e-a966-4ab6-b351-931f391d5e95",
   "metadata": {},
   "source": [
    "### Scenario\n",
    "We've showed you recently how to extend Stack possibilities by defining a new class (i.e., a subclass) which retains all inherited traits and adds some new ones.\n",
    "\n",
    "Your task is to extend the Stack class behavior in such a way so that the class is able to count all the elements that are pushed and popped (we assume that counting pops is enough). Use the Stack class we've provided in the editor."
   ]
  },
  {
   "cell_type": "code",
   "execution_count": 15,
   "id": "695db599-2555-41e0-a8c4-f729ac7e4be3",
   "metadata": {},
   "outputs": [
    {
     "name": "stdout",
     "output_type": "stream",
     "text": [
      "100\n"
     ]
    }
   ],
   "source": [
    "class Stack:\n",
    "    def __init__(self):\n",
    "        self.__stk = []\n",
    "\n",
    "    def push(self, val):\n",
    "        self.__stk.append(val)\n",
    "\n",
    "    def pop(self):\n",
    "        val = self.__stk[-1]\n",
    "        del self.__stk[-1]\n",
    "        return val\n",
    "\n",
    "### Added code starts here\n",
    "class CountingStack(Stack):\n",
    "    def __init__(self):\n",
    "        Stack.__init__(self)\n",
    "        self.__counter = 0\n",
    "\n",
    "    def get_counter(self):\n",
    "        return self.__counter\n",
    "\n",
    "    def pop(self):\n",
    "        self.__counter += 1\n",
    "        Stack.pop(self)\n",
    "### Added code ends here\n",
    "\n",
    "stk = CountingStack()\n",
    "for i in range(100):\n",
    "    stk.push(i)\n",
    "    stk.pop()\n",
    "print(stk.get_counter())"
   ]
  },
  {
   "cell_type": "markdown",
   "id": "6b797968-08f4-4598-8864-6640a4b8c59c",
   "metadata": {},
   "source": [
    "### Scenario\n",
    "As you already know, a stack is a data structure realizing the LIFO (Last In – First Out) model. It's easy and you've already grown perfectly accustomed to it.\n",
    "\n",
    "Let's try something new now. A queue is a data model characterized by the term FIFO: First In – First Out. Note: a regular queue (line) you know from shops or post offices works exactly in the same way – a customer who came first is served first too.\n",
    "\n",
    "Your task is to implement the Queue class with two basic operations:\n",
    "\n",
    "put(element), which puts an element at end of the queue;\n",
    "get(), which takes an element from the front of the queue and returns it as the result (the queue cannot be empty to successfully perform it.)"
   ]
  },
  {
   "cell_type": "code",
   "execution_count": 17,
   "id": "b6bf7d67-188a-401b-97a7-683cac35bb77",
   "metadata": {},
   "outputs": [
    {
     "name": "stdout",
     "output_type": "stream",
     "text": [
      "1\n",
      "dog\n",
      "False\n",
      "Queue error\n",
      "\n"
     ]
    }
   ],
   "source": [
    "class QueueError(IndexError):  # Choose base class for the new exception.\n",
    "    def __init__(self):\n",
    "        IndexError.__init__(self)\n",
    "        print(\"Queue error\")\n",
    "\n",
    "class Queue():\n",
    "    def __init__(self):\n",
    "        self.__queue = []\n",
    "\n",
    "    def put(self, elem):\n",
    "        self.__queue.insert(0, elem)\n",
    "\n",
    "    def get(self):\n",
    "        if len(self.__queue) == 0: \n",
    "            raise QueueError\n",
    "        return self.__queue.pop(len(self.__queue)-1)\n",
    "s\n",
    "que = Queue()\n",
    "que.put(1)\n",
    "que.put(\"dog\")\n",
    "que.put(False)\n",
    "print(que.get())\n",
    "try:\n",
    "    for i in range(4):\n",
    "        print(que.get())\n",
    "except Exception as e:\n",
    "    print(e)"
   ]
  },
  {
   "cell_type": "markdown",
   "id": "bbcc866a-55a1-4ef6-b094-a7201ff8631a",
   "metadata": {},
   "source": [
    "### Scenario\n",
    "Your task is to slightly extend the Queue class' capabilities. We want it to have a parameterless method that returns True if the queue is empty and False otherwise.\n",
    "\n",
    "Complete the code we've provided in the editor. Run it to check whether it outputs a similar result to ours."
   ]
  },
  {
   "cell_type": "code",
   "execution_count": 30,
   "id": "74968945-d0c9-4e7b-89ac-39ad7672db80",
   "metadata": {},
   "outputs": [
    {
     "name": "stdout",
     "output_type": "stream",
     "text": [
      "1\n",
      "dog\n",
      "False\n",
      "Queue empty\n"
     ]
    }
   ],
   "source": [
    "class QueueError(IndexError):  # Choose base class for the new exception.\n",
    "    def __init__(self):\n",
    "        IndexError.__init__(self)\n",
    "        print(\"Queue error\")\n",
    "\n",
    "class Queue():\n",
    "    def __init__(self):\n",
    "        self.__queue = []\n",
    "\n",
    "    def put(self, elem):\n",
    "        self.__queue.insert(0, elem)\n",
    "\n",
    "    def get(self):\n",
    "        if len(self.__queue) == 0: \n",
    "            raise QueueError\n",
    "        return self.__queue.pop(len(self.__queue)-1)\n",
    "        \n",
    "    def return_queue(self):\n",
    "        return self.__queue\n",
    "\n",
    "class SuperQueue(Queue):\n",
    "    def __init__(self):\n",
    "        Queue.__init__(self)\n",
    "\n",
    "    def isempty(self):\n",
    "        if len(Queue.return_queue(self)) == 0:\n",
    "            return True\n",
    "        else:\n",
    "            return False\n",
    "\n",
    "\n",
    "que = SuperQueue()\n",
    "que.put(1)\n",
    "que.put(\"dog\")\n",
    "que.put(False)\n",
    "for i in range(4):\n",
    "    if not que.isempty():\n",
    "        print(que.get())\n",
    "    else:\n",
    "        print(\"Queue empty\")\n"
   ]
  },
  {
   "cell_type": "markdown",
   "id": "c49f500a-a1b9-4a46-b552-26cfa51d91a9",
   "metadata": {},
   "source": [
    "### Scenario\n",
    "We need a class able to count seconds. Easy? Not as much as you may think as we're going to have some specific expectations.\n",
    "\n",
    "Read them carefully as the class you're about write will be used to launch rockets carrying international missions to Mars. It's a great responsibility. We're counting on you!\n",
    "\n",
    "Your class will be called Timer. Its constructor accepts three arguments representing hours (a value from range [0..23] - we will be using the military time), minutes (from range [0..59]) and seconds (from range [0..59]).\n",
    "\n",
    "Zero is the default value for all of the above parameters. There is no need to perform any validation checks.\n",
    "\n",
    "The class itself should provide the following facilities:\n",
    "\n",
    "objects of the class should be \"printable\", i.e. they should be able to implicitly convert themselves into strings of the following form: \"hh:mm:ss\", with leading zeros added when any of the values is less than 10;\n",
    "the class should be equipped with parameterless methods called next_second() and previous_second(), incrementing the time stored inside objects by +1/-1 second respectively.\n",
    "\n",
    "Use the following hints:\r\n",
    "\r\n",
    "all object's properties should be private;\r\n",
    "consider writing a separate function (not method!) to format the time string."
   ]
  },
  {
   "cell_type": "code",
   "execution_count": 20,
   "id": "b3b0fa0d-822d-4625-9150-d46e07261e21",
   "metadata": {},
   "outputs": [
    {
     "name": "stdout",
     "output_type": "stream",
     "text": [
      "23:59:59\n",
      "00:00:00\n",
      "23:59:59\n"
     ]
    }
   ],
   "source": [
    "class Timer:\n",
    "    def __init__(self, hours=0,minutes=0,seconds=0):\n",
    "        self.__hours=hours\n",
    "        self.__minutes=minutes\n",
    "        self.__seconds=seconds\n",
    "        \n",
    "    def __format(self, val):\n",
    "        if val >= 10:\n",
    "            return str(val)\n",
    "        else:\n",
    "            return '0'+str(val)\n",
    "        \n",
    "    def __str__(self):\n",
    "         return self.__format(self.__hours)+':'+self.__format(self.__minutes)+':'+self.__format(self.__seconds)\n",
    "\n",
    "    def next_second(self):\n",
    "        if self.__seconds == 59:\n",
    "            if self.__minutes == 59:\n",
    "                if self.__hours == 23:\n",
    "                    self.__hours = 0\n",
    "                self.__minutes = 0\n",
    "            self.__seconds = 0\n",
    "        else: \n",
    "            self.__seconds += 1\n",
    "\n",
    "    def prev_second(self):\n",
    "        if self.__seconds == 0:\n",
    "            if self.__minutes == 0:\n",
    "                if self.__hours == 0:\n",
    "                    self.__hours = 23\n",
    "                self.__minutes = 59\n",
    "            self.__seconds = 59\n",
    "        else: \n",
    "            self.__seconds -= 1\n",
    "\n",
    "\n",
    "timer = Timer(23, 59, 59)\n",
    "print(timer)\n",
    "timer.next_second()\n",
    "print(timer)\n",
    "timer.prev_second()\n",
    "print(timer)"
   ]
  },
  {
   "cell_type": "markdown",
   "id": "54de052c-e6f1-437c-b327-df734ce54b1a",
   "metadata": {},
   "source": [
    "### Scenario\n",
    "Your task is to implement a class called Weeker. Yes, your eyes don't deceive you – this name comes from the fact that objects of that class will be able to store and to manipulate the days of the week.\n",
    "\n",
    "The class constructor accepts one argument – a string. The string represents the name of the day of the week and the only acceptable values must come from the following set:\n",
    "\n",
    "Mon Tue Wed Thu Fri Sat Sun\n",
    "\n",
    "Invoking the constructor with an argument from outside this set should raise the WeekDayError exception (define it yourself; don't worry, we'll talk about the objective nature of exceptions soon). The class should provide the following facilities:\n",
    "\n",
    "objects of the class should be \"printable\", i.e. they should be able to implicitly convert themselves into strings of the same form as the constructor arguments;\n",
    "the class should be equipped with one-parameter methods called add_days(n) and subtract_days(n), with n being an integer number and updating the day of week stored inside the object in the way reflecting the change of date by the indicated number of days, forward or backward.\n",
    "all object's properties should be private;\n",
    "Complete the template we've provided in the editor and run your code and check whether your output looks the same as ours."
   ]
  },
  {
   "cell_type": "code",
   "execution_count": 25,
   "id": "47c0d046-0d0f-4396-87a5-e52d76c8f5fc",
   "metadata": {},
   "outputs": [
    {
     "name": "stdout",
     "output_type": "stream",
     "text": [
      "Mon\n",
      "Tue\n",
      "Sun\n",
      "Sorry, I can't serve your request.\n"
     ]
    }
   ],
   "source": [
    "class WeekDayError(Exception):\n",
    "    pass\n",
    "\t\n",
    "class Weeker:\n",
    "    days = ['Mon', 'Tue', 'Wed', 'Thu', 'Fri', 'Sat', 'Sun']\n",
    "\n",
    "    def __init__(self, day):\n",
    "        if day in Weeker.days:\n",
    "            self.__day = day\n",
    "        else:\n",
    "            raise WeekDayError\n",
    "\n",
    "    def __str__(self):\n",
    "        return self.__day\n",
    "    \n",
    "    def __get_day_index(self):\n",
    "        return Weeker.days.index(self.__day)\n",
    "        \n",
    "    def __get_new_day_index(self, n):\n",
    "        return (self.__get_day_index() + n) % len(Weeker.days)\n",
    "\n",
    "    def add_days(self, n):\n",
    "        self.__day = Weeker.days[self.__get_new_day_index(n)]\n",
    "\n",
    "    def subtract_days(self, n):\n",
    "        self.__day = Weeker.days[self.__get_new_day_index(-n)]\n",
    "\n",
    "try:\n",
    "    weekday = Weeker('Mon')\n",
    "    print(weekday)\n",
    "    weekday.add_days(15)\n",
    "    print(weekday)\n",
    "    weekday.subtract_days(23)\n",
    "    print(weekday)\n",
    "    weekday = Weeker('Monday')\n",
    "except WeekDayError:\n",
    "    print(\"Sorry, I can't serve your request.\")"
   ]
  },
  {
   "cell_type": "markdown",
   "id": "5ad11150-810c-4221-a101-4f524b542908",
   "metadata": {},
   "source": [
    "### Scenario\n",
    "Let's visit a very special place - a plane with the Cartesian coordinate system (you can learn more about this concept here: https://en.wikipedia.org/wiki/Cartesian_coordinate_system).\n",
    "\n",
    "Each point located on the plane can be described as a pair of coordinates customarily called x and y. We expect that you are able to write a Python class which stores both coordinates as float numbers. Moreover, we want the objects of this class to evaluate the distances between any of the two points situated on the plane.\n",
    "\n",
    "The task is rather easy if you employ the function named hypot() (available through the math module) which evaluates the length of the hypotenuse of a right triangle (more details here: https://en.wikipedia.org/wiki/Hypotenuse) and here: https://docs.python.org/3.7/library/math.html#trigonometric-functions.\n",
    "\n",
    "This is how we imagine the class:\n",
    "\n",
    "it's called Point;\n",
    "its constructor accepts two arguments (x and y respectively), both default to zero;\n",
    "all the properties should be private;\n",
    "the class contains two parameterless methods called getx() and gety(), which return each of the two coordinates (the coordinates are stored privately, so they cannot be accessed directly from within the object);\n",
    "the class provides a method called distance_from_xy(x,y), which calculates and returns the distance between the point stored inside the object and the other point given as a pair of floats;\n",
    "the class provides a method called distance_from_point(point), which calculates the distance (like the previous method), but the other point's location is given as another Point class object;"
   ]
  },
  {
   "cell_type": "code",
   "execution_count": 23,
   "id": "d74d8d0b-8d7f-4db0-9baf-cc559768df72",
   "metadata": {},
   "outputs": [
    {
     "name": "stdout",
     "output_type": "stream",
     "text": [
      "1.4142135623730951\n",
      "1.4142135623730951\n"
     ]
    }
   ],
   "source": [
    "import math\n",
    "\n",
    "class Point:\n",
    "    def __init__(self, x=0.0, y=0.0):\n",
    "        self.__x = x\n",
    "        self.__y = y\n",
    "\n",
    "    def getx(self):\n",
    "        return self.__x\n",
    "\n",
    "    def gety(self):\n",
    "        return self.__y\n",
    "\n",
    "    def distance_from_xy(self, x, y):\n",
    "        return math.hypot(self.getx() - x, self.gety() - y)\n",
    "\n",
    "    def distance_from_point(self, point):\n",
    "        return math.hypot(self.getx() - point.getx(), self.gety() - point.gety())\n",
    "\n",
    "point1 = Point(0, 0)\n",
    "point2 = Point(1, 1)\n",
    "print(point1.distance_from_point(point2))\n",
    "print(point2.distance_from_xy(2, 0))"
   ]
  },
  {
   "cell_type": "markdown",
   "id": "808a0ba5-b19e-4571-9bf0-5ecfd3cd22c9",
   "metadata": {},
   "source": [
    "### Scenario\n",
    "Now we're going to embed the Point class (see Lab 3.4.1.14) inside another class. Also, we're going to put three points into one class, which will let us define a triangle. How can we do it?\n",
    "\n",
    "The new class will be called Triangle and this is the list of our expectations:\n",
    "\n",
    "the constructor accepts three arguments - all of them are objects of the Point class;\n",
    "the points are stored inside the object as a private list;\n",
    "the class provides a parameterless method called perimeter(), which calculates the perimeter of the triangle described by the three points; the perimeter is a sum of all legs' lengths (we mention it for the record, although we are sure that you know it perfectly yourself.)\n",
    "Complete the template we've provided in the editor. Run y"
   ]
  },
  {
   "cell_type": "code",
   "execution_count": 24,
   "id": "91ba9c06-5e89-49b4-9e40-5e2b201364da",
   "metadata": {},
   "outputs": [
    {
     "name": "stdout",
     "output_type": "stream",
     "text": [
      "3.414213562373095\n"
     ]
    }
   ],
   "source": [
    "import math\n",
    "\n",
    "class Point:\n",
    "    def __init__(self, x=0.0, y=0.0):\n",
    "        self.__x = x\n",
    "        self.__y = y\n",
    "\n",
    "    def getx(self):\n",
    "        return self.__x\n",
    "\n",
    "    def gety(self):\n",
    "        return self.__y\n",
    "\n",
    "    def distance_from_xy(self, x, y):\n",
    "        return math.hypot(self.getx() - x, self.gety() - y)\n",
    "\n",
    "    def distance_from_point(self, point):\n",
    "        return math.hypot(self.getx() - point.getx(), self.gety() - point.gety())\n",
    "\n",
    "class Triangle:\n",
    "    def __init__(self, vertice1, vertice2, vertice3):\n",
    "        self.__vertices = [vertice1, vertice2, vertice3]\n",
    "\n",
    "    def perimeter(self):\n",
    "        return sum([v1.distance_from_point(v2) for a, v1 in enumerate(self.__vertices) for b, v2 in enumerate(self.__vertices) if (a != b) and (a == 0 or (a == 1 and b == 2))])\n",
    "\n",
    "triangle = Triangle(Point(0, 0), Point(1, 0), Point(0, 1))\n",
    "print(triangle.perimeter())"
   ]
  },
  {
   "cell_type": "markdown",
   "id": "3087d12f-56b2-4b91-8102-bd17bd35bb43",
   "metadata": {},
   "source": [
    "### Scenario\n",
    "A text file contains some text (nothing unusual) but we need to know how often (or how rare) each letter appears in the text. Such an analysis may be useful in cryptography, so we want to be able to do that in reference to the Latin alphabet.\n",
    "\n",
    "Your task is to write a program which:\n",
    "\n",
    "asks the user for the input file's name;\n",
    "reads the file (if possible) and counts all the Latin letters (lower- and upper-case letters are treated as equal)\n",
    "prints a simple histogram in alphabetical order (only non-zero counts should be presented)\n",
    "Create a test file for the code, and check if your histogram contains valid results.\n",
    "\n",
    "Assuming that the test file contains just one line filled with:\n",
    "\n",
    "aBc\n",
    "samplefile.txt\n",
    "\n",
    "The previous code needs to be improved. It's okay, but it has to be better.\r\n",
    "\r\n",
    "Your task is to make some amendments, which generate the following results:\r\n",
    "\r\n",
    "the output histogram will be sorted based on the characters' frequency (the bigger counter should be presented first)\r\n",
    "the histogram should be sent to a file with the same name as the input one, but with the suffix '.hist' (it should be concatenated to the original name)\r\n",
    "Assuming that the input file contains just one line filled with:"
   ]
  },
  {
   "cell_type": "code",
   "execution_count": 32,
   "id": "5a3f5281-2d4b-4f14-b0b6-0c32fcafbb37",
   "metadata": {},
   "outputs": [],
   "source": [
    "filename = input(\"Input filename\")\n",
    "\n",
    "latinwordcount = dict()\n",
    "\n",
    "with open(filename, 'rt') as f:\n",
    "    for char in f.read().lower():\n",
    "        if 97 <= ord(char) <= 122:\n",
    "            if char in latinwordcount.keys():\n",
    "                latinwordcount[char] += 1\n",
    "            else:\n",
    "                latinwordcount[char] = 1\n",
    "\n",
    "latinwordcount = list(latinwordcount.items())\n",
    "\n",
    "latinwordcount.sort(reverse = True, key = lambda x: x[1])\n",
    "\n",
    "print(latinwordcount)"
   ]
  },
  {
   "cell_type": "markdown",
   "id": "e6b067f0-b5de-4fad-a95c-96f59336064b",
   "metadata": {},
   "source": [
    "### Scenario\n",
    "Prof. Jekyll conducts classes with students and regularly makes notes in a text file. Each line of the file contains three elements: the student's first name, the student's last name, and the number of point the student received during certain classes.\n",
    "\n",
    "The elements are separated with white spaces. Each student may appear more than once inside Prof. Jekyll's file.\n",
    "\n",
    "The file may look as follows:\n",
    "\n",
    "John\tSmith\t5\n",
    "Anna\tBoleyn\t4.5\n",
    "John\tSmith\t2\n",
    "Anna\tBoleyn\t11\n",
    "Andrew\tCox\t1.5\n",
    "samplefile.txt\n",
    "\n",
    "Your task is to write a program which:\n",
    "\n",
    "asks the user for Prof. Jekyll's file name;\n",
    "reads the file contents and counts the sum of the received points for each student;\n",
    "prints a simple (but sorted) report, just like this one:\n",
    "Andrew Cox \t 1.5\n",
    "Anna Boleyn \t 15.5\n",
    "John Smith \t 7.0\n",
    "output\n",
    "\n",
    "Note:\n",
    "\n",
    "your program must be fully protected against all possible failures: the file's non-existence, the file's emptiness, or any input data failures; encountering any data error should cause immediate program termination, and the erroneous should be presented to the user;\n",
    "implement and use your own exceptions hierarchy - we've presented it in the editor; the second exception should be raised when a bad line is detect, and the third when the source file exists but is empty."
   ]
  },
  {
   "cell_type": "code",
   "execution_count": 38,
   "id": "9ff21cb6-294a-4cec-9e76-92525a586e9c",
   "metadata": {},
   "outputs": [],
   "source": [
    "class StudentsDataException(Exception):\n",
    "    pass\n",
    "\n",
    "class BadLine(StudentsDataException):\n",
    "    def __init__(self, msg):\n",
    "        super().__init__(f\"bad line detected {msg}\")\n",
    "\n",
    "class FileEmpty(StudentsDataException):\n",
    "    pass\n",
    "    \n",
    "filename = input(\"input Proj. Jekyll's file name\")\n",
    "\n",
    "linesformat = []\n",
    "studentpts = dict()\n",
    "\n",
    "try:\n",
    "    with open(filename,'rt') as f:\n",
    "        lines = f.readlines()\n",
    "        if len(lines) == 0:\n",
    "            raise FileEmpty(\"source file exists but is empty\")\n",
    "        else:\n",
    "            for line in lines:\n",
    "                if len(line.split()) != 3:\n",
    "                    raise BadLine(line)\n",
    "                for i, split in enumerate(line.split()):\n",
    "                    if i == 0:\n",
    "                        student = split + ' ' + line.split()[1]\n",
    "                    elif i == 2:\n",
    "                        score = float(split)\n",
    "                linesformat.append([student,score])\n",
    "            for student, score in linesformat:\n",
    "                if student in studentpts.keys():\n",
    "                    studentpts[student] += score\n",
    "                else:\n",
    "                    studentpts[student] = score\n",
    "except Exception as e:\n",
    "    raise StudentsDataException(e)\n",
    "            \n",
    "studentpts = list(studentpts.items())\n",
    "studentpts.sort(key = lambda x: x[0])\n",
    "\n",
    "print(studentpts)"
   ]
  },
  {
   "cell_type": "markdown",
   "id": "45b5e3f6-1cb5-4ff5-9393-de92be313af6",
   "metadata": {},
   "source": [
    "### Scenario\n",
    "It goes without saying that operating systems allow you to search for files and directories. While studying this part of the course, you learned about the functions of the os module, which have everything you need to write a program that will search for directories in a given location.\n",
    "\n",
    "To make your task easier, we have prepared a test directory structure for you:\n",
    "\n",
    "\n",
    "Directory structure\n",
    "\n",
    "\n",
    "Your program should meet the following requirements:\n",
    "\n",
    "Write a function or method called find that takes two arguments called path and dir. The path argument should accept a relative or absolute path to a directory where the search should start, while the dir argument should be the name of a directory that you want to find in the given path. Your program should display the absolute paths if it finds a directory with the given name.\n",
    "The directory search should be done recursively. This means that the search should also include all subdirectories in the given path.\n"
   ]
  },
  {
   "cell_type": "markdown",
   "id": "a2602573-3b5b-48e1-8c44-6853d95975bf",
   "metadata": {},
   "source": [
    "import os\n",
    "\n",
    "# Option 1: Use os.walk\n",
    "def find(path, dir):\n",
    "    for cdir, _, _ in os.walk(path):\n",
    "        if cdir.split('/')[-1] == dir:\n",
    "            print(cdir)\n",
    "            \n",
    "# Option 2: Build recursive function\n",
    "def find(path, dir):\n",
    "    dirlist = [item for item in os.listdir(path) if os.path.isdir(os.path.join(path, item))]\n",
    "    for cdir in dirlist:\n",
    "        newpath = os.path.join(path, cdir)\n",
    "        if cdir == dir:\n",
    "            print(newpath)\n",
    "        else: \n",
    "            if len(os.listdir(newpath)) > 0:\n",
    "                find(newpath, dir)\n",
    "        \n",
    "leafdirs = [r\"./tree/c/other_courses/cpp\",r\"./tree/c/other_courses/python\",r\"./tree/cpp/other_courses/c\",r\"./tree/cpp/other_courses/python\",r\"./tree/python/other_courses/c\",r\"./tree/python/other_courses/cpp\"]\n",
    "\n",
    "for leafdir in leafdirs:\n",
    "    os.makedirs(leafdir)\n",
    "\n",
    "find(path=\"./tree\", dir=\"python\")"
   ]
  },
  {
   "cell_type": "markdown",
   "id": "743f8e3a-2662-44c5-8221-147b0450aa0b",
   "metadata": {},
   "source": [
    "### Scenario\n",
    "During this course, you learned about the strftime method, which requires knowledge of directives to create a format. It's time to put the known directives into practice.\n",
    "\n",
    "By the way, you'll have the opportunity to practice working with documentation, because you'll have to find directives that you don't yet know.\n",
    "\n",
    "Here's your task:\n",
    "Write a program that creates a datetime object for November 4, 2020 , 14:53:00. The object created should call the strftime method with the appropriate format to display the following result:\n",
    "\n",
    "2020/11/04 14:53:00\n",
    "20/November/04 14:53:00 PM\n",
    "Wed, 2020 Nov 04\n",
    "Wednesday, 2020 November 04\n",
    "Weekday: 3\n",
    "Day of the year: 309\n",
    "Week number of the year: 44\n",
    "expected output\n",
    "\n",
    "Note: Each result line should be created by calling the strftime method with at least one directive in the format argument."
   ]
  },
  {
   "cell_type": "code",
   "execution_count": 43,
   "id": "1fc6fc13-59a8-4f76-b7e6-7e2bf02a4afa",
   "metadata": {},
   "outputs": [
    {
     "name": "stdout",
     "output_type": "stream",
     "text": [
      "2020-11-04 14:53:00\n",
      "20/November/04 14:53:00 PM\n",
      "Wed, 2020 Nov 04\n",
      "Wednesday, 2020 November 04\n",
      "Weekday: 3\n",
      "Day of the year: 309\n",
      "Week number of the year: 44\n"
     ]
    }
   ],
   "source": [
    "from datetime import datetime\n",
    "\n",
    "date = datetime(year = 2020, month = 11, day = 4, hour = 14, minute = 53)\n",
    "\n",
    "print(date)\n",
    "print(date.strftime(format = \"%y/%B/%d %H:%M:%S %p\"))\n",
    "print(date.strftime(format = \"%a, %Y %b %d\"))\n",
    "print(date.strftime(format = \"%A, %Y %B %d\"))\n",
    "print(date.strftime(format = \"Weekday: %w\"))\n",
    "print(date.strftime(format = \"Day of the year: %j\"))\n",
    "print(date.strftime(format = \"Week number of the year: %U\"))"
   ]
  },
  {
   "cell_type": "markdown",
   "id": "28cbdb5f-9de8-437d-842f-36ada188552d",
   "metadata": {},
   "source": [
    "### Scenario\n",
    "During this course, we looked at the Calendar class a bit. Your task is to extend its functionality with a new method called count_weekday_in_year, which takes a year and a weekday as parameters, and then returns the number of occurrences of a specific weekday in the year.\n",
    "\n",
    "Use the following tips:\n",
    "\n",
    "Create a class called MyCalendar that extends the Calendar class;\n",
    "create the count_weekday_in_year method with the year and weekday parameters. The weekday parameter should be a value between 0-6, where 0 is Monday and 6 is Sunday. The method should return the number of days as an integer;\n",
    "in your implementation, use the monthdays2calendar method of the Calendar class.\n",
    "The following are the expected results:\n",
    "The following are the expected results:\r\n",
    "\r\n",
    "52\r\n",
    "\r\n",
    "\r\n",
    "Samplearguments\r\n",
    "\r\n",
    "year=200, weekday=6\r\n",
    "\r\n",
    "Epected output\r\n",
    "\r\n",
    "53"
   ]
  },
  {
   "cell_type": "code",
   "execution_count": 45,
   "id": "ea2d523e-e88b-4888-acc5-e46ea48a9ae5",
   "metadata": {},
   "outputs": [
    {
     "name": "stdout",
     "output_type": "stream",
     "text": [
      "53\n"
     ]
    }
   ],
   "source": [
    "import calendar\n",
    "\n",
    "class MyCalendar(calendar.Calendar):\n",
    "    def __init__(self):\n",
    "        super().__init__()\n",
    "    \n",
    "    def count_weekday_in_year(self, year, weekday):\n",
    "        return len([day[1] for month in self.yeardays2calendar(year, 12)[0] for week in month for day in week if day[1] == weekday and day[0] != 0])\n",
    "        \n",
    "mc = MyCalendar()\n",
    "print(mc.count_weekday_in_year(2000,6))"
   ]
  },
  {
   "cell_type": "code",
   "execution_count": null,
   "id": "3e749e6f-3e32-4b3b-a612-ff561d6f085b",
   "metadata": {},
   "outputs": [],
   "source": []
  }
 ],
 "metadata": {
  "kernelspec": {
   "display_name": "Python 3 (ipykernel)",
   "language": "python",
   "name": "python3"
  },
  "language_info": {
   "codemirror_mode": {
    "name": "ipython",
    "version": 3
   },
   "file_extension": ".py",
   "mimetype": "text/x-python",
   "name": "python",
   "nbconvert_exporter": "python",
   "pygments_lexer": "ipython3",
   "version": "3.11.7"
  }
 },
 "nbformat": 4,
 "nbformat_minor": 5
}
